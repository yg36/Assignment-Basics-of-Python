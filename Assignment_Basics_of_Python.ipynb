{
  "nbformat": 4,
  "nbformat_minor": 0,
  "metadata": {
    "colab": {
      "provenance": [],
      "authorship_tag": "ABX9TyMzSdNx2uSkw/9S8kC5/qNc",
      "include_colab_link": true
    },
    "kernelspec": {
      "name": "python3",
      "display_name": "Python 3"
    },
    "language_info": {
      "name": "python"
    }
  },
  "cells": [
    {
      "cell_type": "markdown",
      "metadata": {
        "id": "view-in-github",
        "colab_type": "text"
      },
      "source": [
        "<a href=\"https://colab.research.google.com/github/yg36/Assignment-Basics-of-Python/blob/main/Assignment_Basics_of_Python.ipynb\" target=\"_parent\"><img src=\"https://colab.research.google.com/assets/colab-badge.svg\" alt=\"Open In Colab\"/></a>"
      ]
    },
    {
      "cell_type": "code",
      "execution_count": null,
      "metadata": {
        "colab": {
          "base_uri": "https://localhost:8080/"
        },
        "id": "U5Em1ETAYZW7",
        "outputId": "4ce394bb-8ccd-4d25-e523-39e143e17869"
      },
      "outputs": [
        {
          "output_type": "stream",
          "name": "stdout",
          "text": [
            "Original dictionary:  {1: 5.6, 2: 7.8, 3: 6.6, 4: 8.7, 5: 7.7}\n",
            "Updated dictionary after adding:  {1: 5.6, 2: 7.8, 3: 6.6, 4: 8.7, 5: 7.7, 8: 8.8}\n",
            "Updated dictionary after deletion:  {1: 5.6, 3: 6.6, 4: 8.7, 5: 7.7, 8: 8.8}\n",
            "Key 6 does not exist in the dictionary\n",
            "Number of elements in the dictionary:  5\n",
            "Sum of all values in the dictionary:  37.4\n",
            "Updated dictionary after updating:  {1: 5.6, 3: 7.1, 4: 8.7, 5: 7.7, 8: 8.8}\n",
            "Updated dictionary after clearing:  {}\n"
          ]
        }
      ],
      "source": [
        "D= {1:5.6, 2:7.8, 3:6.6, 4:8.7, 5:7.7}\n",
        "print(\"Original dictionary: \", D)\n",
        "\n",
        "# add key=8, value=8.8\n",
        "D[8] = 8.8\n",
        "print(\"Updated dictionary after adding: \", D)\n",
        "\n",
        "# remove key 2\n",
        "del D[2]\n",
        "print(\"Updated dictionary after deletion: \", D)\n",
        "\n",
        "# search for key 6\n",
        "if 6 in D.keys():\n",
        "    print(\"Key 6 exists in the dictionary\")\n",
        "else:\n",
        "    print(\"Key 6 does not exist in the dictionary\")\n",
        "\n",
        "# count no of elements\n",
        "print(\"Number of elements in the dictionary: \", len(D))\n",
        "\n",
        "# adding all values\n",
        "sum_values = sum(D.values())\n",
        "print(\"Sum of all values in the dictionary: \", sum_values)\n",
        "\n",
        "# update the value of key= 3 to 7.1\n",
        "D[3] = 7.1\n",
        "print(\"Updated dictionary after updating: \", D)\n",
        "\n",
        "# clear the dicytionary\n",
        "D.clear()\n",
        "print(\"Updated dictionary after clearing: \", D)"
      ]
    },
    {
      "cell_type": "code",
      "source": [
        "L=[11, 12, 13, 14]\n",
        "print(L)\n",
        "print(L[0]) # prints 11\n",
        "print(L[1:3]) # prints [12, 13]\n",
        "print(L[1:]) # prints [12, 13, 14]\n",
        "\n",
        "# add 50, 60\n",
        "L.append(50)\n",
        "L.append(60)\n",
        "print(\"after adding: \")\n",
        "print(L)\n",
        "\n",
        "# remove 11, 13\n",
        "L.remove(11)\n",
        "L.remove(13)\n",
        "print(\"after deleting: \")\n",
        "print(L)\n",
        "\n",
        "# sort L in ascending order\n",
        "L.sort()\n",
        "print(\"after sorting in asc order: \")\n",
        "print(L)\n",
        "\n",
        "# sort L in descending order\n",
        "L.sort(reverse=True)\n",
        "print(\"after sorting in desc order: \")\n",
        "print(L)\n",
        "\n",
        "# search 13\n",
        "if 13 in L:\n",
        "    print(\"13 is in L\")\n",
        "else:\n",
        "    print(\"13 is not in L\")\n",
        "\n",
        "# count no of elements\n",
        "print(\"No of elements in L: \", len(L))\n",
        "\n",
        "# sum of all elements\n",
        "print(\"Sum of all elements in L: \", sum(L))\n",
        "\n",
        "# sum of odd nos\n",
        "sum_odd = sum(i for i in L if i % 2 != 0)\n",
        "print(\"Sum of odd nos: \", sum_odd)\n",
        "\n",
        "# sum of even nos\n",
        "sum_even = sum(i for i in L if i % 2 == 0)\n",
        "print(\"Sum of even nos: \", sum_even)\n",
        "\n",
        "# sum of prime nos\n",
        "def is_prime(n):\n",
        "    if n < 2:\n",
        "        return False\n",
        "    for i in range(2, int(n**0.5) + 1):\n",
        "        if n % i == 0: return False\n",
        "        return True\n",
        "sum_prime = sum(i for i in L if is_prime(i))\n",
        "print(\"Sum of prime nos: \", sum_prime)\n",
        "\n",
        "# clear the elements\n",
        "L.clear()\n",
        "print(\"After clearing: \")\n",
        "print(L)\n",
        "\n",
        "# delete L\n",
        "# del L\n",
        "# print(\"After deleting L: \")\n",
        "# print(L) # this will give error because L is deleted"
      ],
      "metadata": {
        "colab": {
          "base_uri": "https://localhost:8080/"
        },
        "id": "v3zPjXSaYxTH",
        "outputId": "7aa93a05-ed4f-41e8-aaf4-1da6d5cf9d07"
      },
      "execution_count": null,
      "outputs": [
        {
          "output_type": "stream",
          "name": "stdout",
          "text": [
            "[11, 12, 13, 14]\n",
            "11\n",
            "[12, 13]\n",
            "[12, 13, 14]\n",
            "after adding: \n",
            "[11, 12, 13, 14, 50, 60]\n",
            "after deleting: \n",
            "[12, 14, 50, 60]\n",
            "after sorting in asc order: \n",
            "[12, 14, 50, 60]\n",
            "after sorting in desc order: \n",
            "[60, 50, 14, 12]\n",
            "13 is not in L\n",
            "No of elements in L:  4\n",
            "Sum of all elements in L:  136\n",
            "Sum of odd nos:  0\n",
            "Sum of even nos:  136\n",
            "Sum of prime nos:  0\n",
            "After clearing: \n",
            "[]\n"
          ]
        }
      ]
    },
    {
      "cell_type": "code",
      "source": [
        "S1= set([10, 20, 30, 40, 50, 60])\n",
        "S2= set([40, 50, 60, 70, 80, 90])\n",
        "print(\"Original sets:\")\n",
        "print(\"S1: \", S1)\n",
        "print(\"S2: \", S2)\n",
        "\n",
        "print(\"\\nSymmetric difference of S1 and S2:\")\n",
        "print(S1.symmetric_difference(S2)) #Symmetric difference of two sets\n",
        "\n",
        "#  add 55 and 66\n",
        "S1.add(55)\n",
        "S1.add(66)\n",
        "print(\"\\nUpdated S1:\")\n",
        "print(S1)\n",
        "\n",
        "#  remove 10 and 30\n",
        "S1.remove(10)\n",
        "S1.remove(30)\n",
        "print(\"\\nUpdated S1:\")\n",
        "print(S1)\n",
        "\n",
        "# search for 40\n",
        "print(\"\\nIs 40 in S1?\")\n",
        "if 40 in S1:\n",
        "    print(\"Yes, 40 is in S1\")\n",
        "else:\n",
        "    print(\"No, 40 is not in S1\")\n",
        "\n",
        "print(\"\\nUnion of S1 and S2:\")\n",
        "print(S1.union(S2)) #Union of two sets\n",
        "\n",
        "print(\"\\nIntersection of S1 and S2:\")\n",
        "print(S1.intersection(S2)) #Intersection of two sets\n",
        "\n",
        "print(\"\\nDifference of S1 and S2:\")\n",
        "print(S1.difference(S2)) #Difference of two sets"
      ],
      "metadata": {
        "colab": {
          "base_uri": "https://localhost:8080/"
        },
        "id": "2res5FEwY9dK",
        "outputId": "28ba89af-65b9-4f7b-b9c8-0d2c86851275"
      },
      "execution_count": null,
      "outputs": [
        {
          "output_type": "stream",
          "name": "stdout",
          "text": [
            "Original sets:\n",
            "S1:  {40, 10, 50, 20, 60, 30}\n",
            "S2:  {70, 40, 80, 50, 90, 60}\n",
            "\n",
            "Symmetric difference of S1 and S2:\n",
            "{70, 10, 80, 20, 90, 30}\n",
            "\n",
            "Updated S1:\n",
            "{66, 40, 10, 50, 20, 55, 60, 30}\n",
            "\n",
            "Updated S1:\n",
            "{66, 40, 50, 20, 55, 60}\n",
            "\n",
            "Is 40 in S1?\n",
            "Yes, 40 is in S1\n",
            "\n",
            "Union of S1 and S2:\n",
            "{66, 70, 40, 80, 50, 20, 55, 90, 60}\n",
            "\n",
            "Intersection of S1 and S2:\n",
            "{40, 50, 60}\n",
            "\n",
            "Difference of S1 and S2:\n",
            "{66, 20, 55}\n"
          ]
        }
      ]
    },
    {
      "cell_type": "code",
      "source": [
        "# print 100 random strings whose length between 6 and 8.\n",
        "import random as r\n",
        "import string as s\n",
        "i=1\n",
        "for i in range (1,101):\n",
        "    size=r.randint(6,9)\n",
        "    str=\"\".join(r.sample(s.ascii_letters, size))\n",
        "    print(str)"
      ],
      "metadata": {
        "colab": {
          "base_uri": "https://localhost:8080/"
        },
        "id": "WwRuRAwTY__5",
        "outputId": "a3dc68f2-069b-41d5-e74e-d627a3a33e05"
      },
      "execution_count": null,
      "outputs": [
        {
          "output_type": "stream",
          "name": "stdout",
          "text": [
            "TGQmho\n",
            "oNxJHn\n",
            "MgZPCpt\n",
            "ZtfkFQrHN\n",
            "BEsKmcn\n",
            "wCLpGq\n",
            "OHKxCPt\n",
            "MXItfNAPs\n",
            "Ltkrlb\n",
            "PcWgtfyDB\n",
            "ovjhqfk\n",
            "wFBRbe\n",
            "XmDAdSeT\n",
            "INLsKZWp\n",
            "XPqAeazSD\n",
            "dszJrmuc\n",
            "rdiNHjnBS\n",
            "nUwImFO\n",
            "JapQRm\n",
            "QMSYWBixe\n",
            "IlqjgC\n",
            "qTYPBbIa\n",
            "IEifjq\n",
            "PaAyEv\n",
            "WdoHIZgl\n",
            "RnaXulsHM\n",
            "YfbCgkno\n",
            "tPldUkQf\n",
            "viXTtI\n",
            "RfHzCVQuX\n",
            "zfWdoXxc\n",
            "iFrOQk\n",
            "COIvRMnu\n",
            "qPcBRQh\n",
            "Hkqrbml\n",
            "yPQSweVY\n",
            "BxMzAKWNa\n",
            "igwuNP\n",
            "tilvpYqZ\n",
            "nbDOGrLpf\n",
            "SJlLoNZP\n",
            "XUiClN\n",
            "jlxerQf\n",
            "AjmqYDlhP\n",
            "gyVChprMb\n",
            "SEMjRsd\n",
            "tyjNMQf\n",
            "hPdwOVAg\n",
            "AvMrqGVf\n",
            "gBshGu\n",
            "ULbSDK\n",
            "kwFIoQzJE\n",
            "ayATog\n",
            "XsQwDbpK\n",
            "UtSksRc\n",
            "avMsPJmxn\n",
            "adBWeThuL\n",
            "bRhapMXUn\n",
            "hFWDpnUdS\n",
            "XKYmHV\n",
            "XTBZoa\n",
            "ghwFDmA\n",
            "OWQLDdlp\n",
            "DCHRxAb\n",
            "FZlKobqrB\n",
            "PScRGKF\n",
            "QPSfyOIo\n",
            "DWosgYTZ\n",
            "DufenLrg\n",
            "AakKBhbGX\n",
            "ocIyCjHsS\n",
            "DhdvJH\n",
            "WiemUGY\n",
            "RySoQAhs\n",
            "WLBzrKZ\n",
            "GJLBNdSf\n",
            "NUprvtZo\n",
            "hnBFTp\n",
            "LAJOhbD\n",
            "FVEAaGwmX\n",
            "vBbzijRZs\n",
            "JGdMonWjR\n",
            "KxrhAb\n",
            "VJxLYtEMK\n",
            "uRlNDgr\n",
            "esFIfjBTM\n",
            "LcafkbiW\n",
            "knZGsSgow\n",
            "itzJOT\n",
            "wsoaMkUKj\n",
            "rLMPWCf\n",
            "VZkJGTyL\n",
            "anPlHACL\n",
            "DhKqkE\n",
            "JfVzbFLn\n",
            "foguIF\n",
            "kNpzeVIrn\n",
            "AdzioGZTF\n",
            "jFNrAT\n",
            "zqKpGW\n"
          ]
        }
      ]
    },
    {
      "cell_type": "code",
      "source": [
        "#  print all prime numbers between 600 and 800\n",
        "for i in range(600, 801):\n",
        "    f = 0\n",
        "    for j in range(2, i // 2 + 1):\n",
        "        if i % j == 0:\n",
        "            f = 1\n",
        "            break\n",
        "\n",
        "    if f == 0:\n",
        "        print(i)"
      ],
      "metadata": {
        "colab": {
          "base_uri": "https://localhost:8080/"
        },
        "id": "6LxNzNbAd6fI",
        "outputId": "5745af35-9a26-4f85-897d-4df5bae24458"
      },
      "execution_count": null,
      "outputs": [
        {
          "output_type": "stream",
          "name": "stdout",
          "text": [
            "601\n",
            "607\n",
            "613\n",
            "617\n",
            "619\n",
            "631\n",
            "641\n",
            "643\n",
            "647\n",
            "653\n",
            "659\n",
            "661\n",
            "673\n",
            "677\n",
            "683\n",
            "691\n",
            "701\n",
            "709\n",
            "719\n",
            "727\n",
            "733\n",
            "739\n",
            "743\n",
            "751\n",
            "757\n",
            "761\n",
            "769\n",
            "773\n",
            "787\n",
            "797\n"
          ]
        }
      ]
    },
    {
      "cell_type": "code",
      "source": [
        "# print all numbers between 100 and 1000 that are divisible by 7 and 9\n",
        "for i in range(100,1001):\n",
        "    if i % 7 == 0 and i % 9 == 0:\n",
        "        print(i)"
      ],
      "metadata": {
        "colab": {
          "base_uri": "https://localhost:8080/"
        },
        "id": "MgRBvA4-d_eU",
        "outputId": "ac7bbb15-2b5d-4bc2-f274-e26bb00f3ba6"
      },
      "execution_count": null,
      "outputs": [
        {
          "output_type": "stream",
          "name": "stdout",
          "text": [
            "126\n",
            "189\n",
            "252\n",
            "315\n",
            "378\n",
            "441\n",
            "504\n",
            "567\n",
            "630\n",
            "693\n",
            "756\n",
            "819\n",
            "882\n",
            "945\n"
          ]
        }
      ]
    },
    {
      "cell_type": "code",
      "source": [
        "# 5 ques\n",
        "import random as r\n",
        "L1= r.sample(range(10,31),10)\n",
        "print(L1)\n",
        "L2= r.sample(range(10,31),10)\n",
        "print(L2)\n",
        "\n",
        "# common nos between lists\n",
        "common = [value for value in L1 if value in L2]\n",
        "print(\"common no.s are: \", common)\n",
        "\n",
        "# unique elements in both\n",
        "unique = [value for value in L1 + L2 if (L1 + L2)]\n",
        "print(unique)\n",
        "\n",
        "# min in both lists\n",
        "min_val = min(min(L1), min(L2))\n",
        "print(min_val)\n",
        "\n",
        "# max in both lists\n",
        "max_val = max(max(L1), max(L2))\n",
        "print(max_val)\n",
        "\n",
        "# sum of both lists\n",
        "sum_val = sum(L1) + sum(L2)\n",
        "print(sum_val)"
      ],
      "metadata": {
        "id": "Hl8e1067eC4g"
      },
      "execution_count": null,
      "outputs": []
    },
    {
      "cell_type": "code",
      "source": [
        "import random as r\n",
        "L1= r.sample(range(100,901),100)\n",
        "print(L1)\n",
        "\n",
        "# print all odd numbers\n",
        "odd_nums = [num for num in L1 if num % 2 != 0]\n",
        "print(odd_nums)\n",
        "\n",
        "# print even numbers\n",
        "even_nums = [num for num in L1 if num % 2 == 0]\n",
        "print(even_nums)\n",
        "\n",
        "# print primes\n",
        "def is_prime(i):\n",
        "    for j in range(2,i//2 + 1):\n",
        "        if i%j==0:\n",
        "            return False\n",
        "        return True\n",
        "\n",
        "for i in L1:\n",
        "    if is_prime(i):\n",
        "        print(i)"
      ],
      "metadata": {
        "id": "NS_rnvGHgQ4_",
        "colab": {
          "base_uri": "https://localhost:8080/"
        },
        "outputId": "f3ec2430-7d07-4f77-d8a5-396d694a5cab"
      },
      "execution_count": 1,
      "outputs": [
        {
          "output_type": "stream",
          "name": "stdout",
          "text": [
            "[611, 823, 462, 403, 237, 287, 407, 292, 889, 114, 691, 281, 690, 212, 460, 458, 842, 386, 678, 541, 480, 172, 399, 800, 749, 327, 302, 563, 628, 381, 810, 646, 888, 446, 514, 102, 598, 866, 555, 753, 683, 894, 865, 714, 284, 552, 466, 631, 437, 619, 694, 689, 423, 502, 601, 849, 236, 657, 120, 773, 223, 496, 784, 449, 710, 298, 758, 882, 129, 757, 246, 680, 570, 538, 438, 193, 257, 550, 232, 692, 859, 791, 406, 684, 234, 338, 478, 781, 501, 517, 785, 584, 614, 188, 862, 330, 432, 864, 497, 655]\n",
            "[611, 823, 403, 237, 287, 407, 889, 691, 281, 541, 399, 749, 327, 563, 381, 555, 753, 683, 865, 631, 437, 619, 689, 423, 601, 849, 657, 773, 223, 449, 129, 757, 193, 257, 859, 791, 781, 501, 517, 785, 497, 655]\n",
            "[462, 292, 114, 690, 212, 460, 458, 842, 386, 678, 480, 172, 800, 302, 628, 810, 646, 888, 446, 514, 102, 598, 866, 894, 714, 284, 552, 466, 694, 502, 236, 120, 496, 784, 710, 298, 758, 882, 246, 680, 570, 538, 438, 550, 232, 692, 406, 684, 234, 338, 478, 584, 614, 188, 862, 330, 432, 864]\n",
            "611\n",
            "823\n",
            "403\n",
            "237\n",
            "287\n",
            "407\n",
            "889\n",
            "691\n",
            "281\n",
            "541\n",
            "399\n",
            "749\n",
            "327\n",
            "563\n",
            "381\n",
            "555\n",
            "753\n",
            "683\n",
            "865\n",
            "631\n",
            "437\n",
            "619\n",
            "689\n",
            "423\n",
            "601\n",
            "849\n",
            "657\n",
            "773\n",
            "223\n",
            "449\n",
            "129\n",
            "757\n",
            "193\n",
            "257\n",
            "859\n",
            "791\n",
            "781\n",
            "501\n",
            "517\n",
            "785\n",
            "497\n",
            "655\n"
          ]
        }
      ]
    },
    {
      "cell_type": "code",
      "source": [
        "import pandas as pd\n",
        "D={1:\"One\",2:\"Two\",3:\"Three\",4:\"Four\", 5:\"Five\"}\n",
        "df=pd.DataFrame.from_dict(D,orient=\"index\")\n",
        "print(df)"
      ],
      "metadata": {
        "colab": {
          "base_uri": "https://localhost:8080/"
        },
        "id": "Gj-jOC6jGQfE",
        "outputId": "bd44db0d-4122-49d0-95c1-df37c186fdc5"
      },
      "execution_count": 2,
      "outputs": [
        {
          "output_type": "stream",
          "name": "stdout",
          "text": [
            "       0\n",
            "1    One\n",
            "2    Two\n",
            "3  Three\n",
            "4   Four\n",
            "5   Five\n"
          ]
        }
      ]
    },
    {
      "cell_type": "code",
      "source": [
        "L=[\"One\",\"Two\",\"Three\",\"Four\",\"Five\"]\n",
        "for i in L:\n",
        "    print(i, len(i))"
      ],
      "metadata": {
        "colab": {
          "base_uri": "https://localhost:8080/"
        },
        "id": "aj8G0i_BGa3o",
        "outputId": "71758630-cb8f-48c5-b649-e9c2f7af464f"
      },
      "execution_count": 3,
      "outputs": [
        {
          "output_type": "stream",
          "name": "stdout",
          "text": [
            "One 3\n",
            "Two 3\n",
            "Three 5\n",
            "Four 4\n",
            "Five 4\n"
          ]
        }
      ]
    },
    {
      "cell_type": "code",
      "source": [
        "import string as s\n",
        "import random as r\n",
        "for i in range(1,101):\n",
        "    password = ''.join(r.sample(s.ascii_letters,r.randint(10,16)))\n",
        "    print(password)"
      ],
      "metadata": {
        "colab": {
          "base_uri": "https://localhost:8080/"
        },
        "id": "nHC5aK7uGfs2",
        "outputId": "675dafcf-0666-49b0-b17e-f04de1bb45d0"
      },
      "execution_count": 4,
      "outputs": [
        {
          "output_type": "stream",
          "name": "stdout",
          "text": [
            "SWowIHTzRVfb\n",
            "CoQSNAMxqne\n",
            "oTtzvDKcPgdFIy\n",
            "HANtgXBEjIwv\n",
            "YVmAMqbyFEdXOcZL\n",
            "dmHzBpsTvXn\n",
            "aRNAJoDKplZmI\n",
            "VuMnEReUFmjpBGCc\n",
            "ocGRWvEHlpVkS\n",
            "eVavcIrkqEgd\n",
            "lhdLXTyiVbWKnxoC\n",
            "VZMecEtJKWIhjkg\n",
            "XxNVRosQeyjY\n",
            "QPSouglriak\n",
            "rNRadnHXWoIwh\n",
            "uVCyJHImfpzL\n",
            "cDBwvHirMemYO\n",
            "yaoOAidsKwuczZV\n",
            "DEhdgKWubFQ\n",
            "xkgObNtqSuTemW\n",
            "IhBjsFnLNeYlDzpE\n",
            "QoNYGIzZWgKemfJn\n",
            "BUGmALPRysZ\n",
            "WGxjFXTBvYPQh\n",
            "LCwHKEGNBYbZ\n",
            "LOcEGSsQXgTeblfA\n",
            "hkSzgBAfXjQw\n",
            "nMQKeNJilo\n",
            "jJtiwOvGAUM\n",
            "sviZBmouAwl\n",
            "iSlYkZOCawevfbK\n",
            "sKoOFAQZpuwkIqyV\n",
            "JvfiueNRXVwPzQ\n",
            "tThaucPNfAU\n",
            "mITszBPiFGoMW\n",
            "WudznDticYhe\n",
            "uUyDgdnRkoSjcGLz\n",
            "CimuIBkwATzjxM\n",
            "cTFuQGdKUzxbBXm\n",
            "uAfSabVCXUlKmF\n",
            "UpkCKERqcHWmyue\n",
            "GDPHxThzqsw\n",
            "MSJNKLFhkgmVtQq\n",
            "qgBTCOaZrNIXekAj\n",
            "xkKiecjfRr\n",
            "DudSEQZxJNoWAfPY\n",
            "cuoaVHWifTqvCEYw\n",
            "kQCwEMKAyXZGgTaz\n",
            "MlapEYZOosXK\n",
            "LsYyrbqTmuegkCU\n",
            "ljQHsBvfUpb\n",
            "aPsotegTfbqWEmVn\n",
            "CYOrXWGeoIBHQ\n",
            "OnEZMUBdKCpR\n",
            "HaqdJSVkgrMltn\n",
            "pREfiDudsZKbT\n",
            "wrtxfmFlIC\n",
            "pJQwDbtndyfUzhOo\n",
            "RIMncokdswVJhD\n",
            "XnAoBydEeJaVR\n",
            "xkXDtFqmJWhRLVPK\n",
            "moctPSpRuGFAxfC\n",
            "TokpDbhqYvzH\n",
            "YasOMLjkRPFQNHZ\n",
            "lQHumKRLpn\n",
            "zSyKTZhrmwbfQY\n",
            "UsLGfuirVC\n",
            "xaBzylfGWbiVQF\n",
            "bxQUPAkXJLSyaec\n",
            "GxvaEkAyMBOtwFhI\n",
            "PuhoZXNYpMs\n",
            "lbwFnHyuUZQD\n",
            "bOQaxKzHCT\n",
            "xBVvNgbZchfuaM\n",
            "UImBGiLywMcWgu\n",
            "yozabYuJNnmT\n",
            "BPmupvbZFeTXncsU\n",
            "SbLvRQTofGgdmD\n",
            "pNzXROfhcmHL\n",
            "YeHzkhWFrst\n",
            "LlgyPvaDMAU\n",
            "DltjsxFWXK\n",
            "lUQObsdXwWcnTJp\n",
            "bpcoMgznqXTGf\n",
            "yBLgIEtVcW\n",
            "MUcQNEnjdZCVKH\n",
            "KAmnvVFqbIY\n",
            "GJxgKEBwlOqUCI\n",
            "uirXFHnTqEej\n",
            "RsiWMrymwf\n",
            "kyFLnMRlGdj\n",
            "RIUEruBbjS\n",
            "CPjLBQyIxtmWThEZ\n",
            "CrIBRXVteAp\n",
            "atGqIhkLvEiSUNg\n",
            "sNGTHQFgWtLw\n",
            "wBsutdNWjvyhJbI\n",
            "imZDVwrkcySz\n",
            "IuwpZbxdXYyPanf\n",
            "HwyMrlAeYWiITz\n"
          ]
        }
      ]
    },
    {
      "cell_type": "code",
      "source": [
        "#  print all prime numbers between 600 and 800\n",
        "fp=open('result.txt', 'w')\n",
        "for i in range(600, 801):\n",
        "    f = 0\n",
        "    for j in range(2, i // 2 + 1):\n",
        "        if i % j == 0:\n",
        "            f = 1\n",
        "            break\n",
        "\n",
        "    if f == 0:\n",
        "        print(i)"
      ],
      "metadata": {
        "colab": {
          "base_uri": "https://localhost:8080/"
        },
        "id": "B-Ou0zsoGnX-",
        "outputId": "2c11a8fc-5a1c-482d-fd5f-df37d8d52674"
      },
      "execution_count": 5,
      "outputs": [
        {
          "output_type": "stream",
          "name": "stdout",
          "text": [
            "601\n",
            "607\n",
            "613\n",
            "617\n",
            "619\n",
            "631\n",
            "641\n",
            "643\n",
            "647\n",
            "653\n",
            "659\n",
            "661\n",
            "673\n",
            "677\n",
            "683\n",
            "691\n",
            "701\n",
            "709\n",
            "719\n",
            "727\n",
            "733\n",
            "739\n",
            "743\n",
            "751\n",
            "757\n",
            "761\n",
            "769\n",
            "773\n",
            "787\n",
            "797\n"
          ]
        }
      ]
    },
    {
      "cell_type": "code",
      "source": [
        "import time\n",
        "t1=time.time()\n",
        "for i in range(100):\n",
        "    i=i+1\n",
        "print(i)\n",
        "t2=time.time()\n",
        "print(\"time taken is: \", t2-t1)"
      ],
      "metadata": {
        "colab": {
          "base_uri": "https://localhost:8080/"
        },
        "id": "c1B3OX06Gr37",
        "outputId": "6a1ced4e-7313-4452-87e5-c5f138be5352"
      },
      "execution_count": 7,
      "outputs": [
        {
          "output_type": "stream",
          "name": "stdout",
          "text": [
            "100\n",
            "0.0003819465637207031\n"
          ]
        }
      ]
    },
    {
      "cell_type": "code",
      "source": [
        "import pandas as pd\n",
        "import random as r\n",
        "import time\n",
        "import matplotlib.pyplot as plt\n",
        "t1=time.time()\n",
        "l1=r.sample(range(1,10000000),5000)\n",
        "l2=r.sample(range(1,10000000),10000)\n",
        "l3=r.sample(range(1,10000000),15000)\n",
        "l4=r.sample(range(1,10000000),20000)\n",
        "l5=r.sample(range(1,10000000),25000)\n",
        "l1.sort()\n",
        "t2=time.time()\n",
        "print(\"print to sort 5000 elements is: \", t2-t1)\n",
        "l2.sort()\n",
        "t3=time.time()\n",
        "print(\"print to sort 10000 elements is: \", t3-t2)\n",
        "l3.sort()\n",
        "t4=time.time()\n",
        "print(\"print to sort 5000 elements is: \", t4-t3)\n",
        "l4.sort()\n",
        "t5=time.time()\n",
        "print(\"print to sort 5000 elements is: \", t5-t4)\n",
        "l5.sort()\n",
        "t6=time.time()\n",
        "print(\"print to sort 5000 elements is: \", t6-t5)\n",
        "\n",
        "l_time=[]\n",
        "l_time.append(t2-t1)\n",
        "l_time.append(t3-t2)\n",
        "l_time.append(t4-t3)\n",
        "l_time.append(t5-t4)\n",
        "l_time.append(t6-t5)\n",
        "print(l_time)\n",
        "\n",
        "no_of_elements=[5000, 10000, 15000, 20000, 25000]\n",
        "plt.plot(no_of_elements, l_time)\n",
        "plt.xlabel(\"No of Elements\")\n",
        "plt.ylabel(\"Time taken (in seconds)\")\n",
        "plt.show()"
      ],
      "metadata": {
        "colab": {
          "base_uri": "https://localhost:8080/",
          "height": 555
        },
        "id": "chQLxN-MG2n7",
        "outputId": "91d09ec7-2f21-48c7-99b5-9e8dd3476e11"
      },
      "execution_count": 8,
      "outputs": [
        {
          "output_type": "stream",
          "name": "stdout",
          "text": [
            "print to sort 5000 elements is:  0.11566400527954102\n",
            "print to sort 10000 elements is:  0.0028104782104492188\n",
            "print to sort 5000 elements is:  0.006900310516357422\n",
            "print to sort 5000 elements is:  0.007359027862548828\n",
            "print to sort 5000 elements is:  0.009428262710571289\n",
            "[0.11566400527954102, 0.0028104782104492188, 0.006900310516357422, 0.007359027862548828, 0.009428262710571289]\n"
          ]
        },
        {
          "output_type": "display_data",
          "data": {
            "text/plain": [
              "<Figure size 640x480 with 1 Axes>"
            ],
            "image/png": "[encoded data removed]"
          },
          "metadata": {}
        }
      ]
    }
  ]
}